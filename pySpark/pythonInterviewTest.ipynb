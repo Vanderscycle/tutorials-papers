{
 "metadata": {
  "language_info": {
   "codemirror_mode": {
    "name": "ipython",
    "version": 3
   },
   "file_extension": ".py",
   "mimetype": "text/x-python",
   "name": "python",
   "nbconvert_exporter": "python",
   "pygments_lexer": "ipython3",
   "version": "3.8.2-final"
  },
  "orig_nbformat": 2,
  "kernelspec": {
   "name": "lighthouse-lab-course",
   "display_name": "lighthouse-lab-course",
   "language": "python"
  }
 },
 "nbformat": 4,
 "nbformat_minor": 2,
 "cells": [
  {
   "source": [
    "#3 What are the key features of Python?\n",
    "\n",
    "Interpreted: compile as you code. Translate each statement into a squence of one or more subroutine(machine code)\n",
    "\n",
    "Dynamically typed: First, dynamically-typed languages perform type checking at runtime, while statically typed languages perform type checking at compile time. This means that scripts written in dynamically-typed languages (like Groovy) can compile even if they contain errors that will prevent the script from running properly (if at all).\n",
    "\n",
    "OOP: programming paradigm based on the concept of objects which can contain data and code. Allow for easy reutilisation for the code, abstraction (only using relecant mechanisms)\n",
    "General purpose: import modules to add capabilities\n",
    "cross-platform: works accross all OS and distros"
   ],
   "cell_type": "markdown",
   "metadata": {}
  },
  {
   "source": [
    "#8 how does python memory works?\n",
    "Python’s memory management\n",
    "\n",
    "Python is an interpreter based language that dynamically allocates memory using its Memory Manager. Although it takes away the liberty of managing the memory from the developer, it hands out some tools to make the code more robust and understandable.\n",
    "\n",
    "Since there is no option for manual memory management, Python uses a built-in Garbage Collector that continuously looks for un-referenced objects and deletes them from memory. This ensures good optimization of memory at the cost of the speed of code execution.\n",
    "Heap Space\n",
    "\n",
    "Heap space in Python primarily maintains all objects and data structures, whereas its counterpart, stack space, contains all the references to the objects in heap space.\n",
    "\n",
    "When an object is updated, the new value is written at a new location and the variable is referenced to the new address. As soon as references to an object reach 000, the Garbage Collector wipes it from the heap."
   ],
   "cell_type": "markdown",
   "metadata": {}
  },
  {
   "source": [
    "#6 data types supported by Python?\n",
    "* numbers (int/floats)\n",
    "* strings(str)\n",
    "* lists(python object)\n",
    "* tuples\n",
    "* Dict"
   ],
   "cell_type": "markdown",
   "metadata": {}
  },
  {
   "cell_type": "code",
   "execution_count": null,
   "metadata": {},
   "outputs": [],
   "source": []
  },
  {
   "source": [
    "#7 lists vs tuples\n",
    "list are mutable (can be edited) tupples cannot\n",
    "list use [] tuples use ()\n"
   ],
   "cell_type": "markdown",
   "metadata": {}
  },
  {
   "source": [
    "#9 inheritance in python\n",
    "\n",
    "   * Single inheritance: When a class inherits only one superclass\n",
    "   * Multiple inheritance: When a class inherits multiple superclasses\n",
    "   * Multilevel inheritance: When a class inherits a superclass and then another class inherits this derived class forming a ‘parent, child, and grandchild’ class structure\n",
    "   * Hierarchical inheritance: When one superclass is inherited by multiple derived classes\n"
   ],
   "cell_type": "markdown",
   "metadata": {}
  },
  {
   "source": [
    "#10 What is a dictionary in Python?\n",
    "\n",
    "Python dictionary is one of the supported data types in Python. It is an unordered collection of elements. The elements in dictionaries are stored as key–value pairs. Dictionaries are indexed by keys.\n",
    "```dict={‘Country’:’India’,’Capital’:’New Delhi’, }```"
   ],
   "cell_type": "markdown",
   "metadata": {}
  },
  {
   "cell_type": "code",
   "execution_count": 44,
   "metadata": {},
   "outputs": [
    {
     "output_type": "stream",
     "name": "stdout",
     "text": [
      "HELLO world!\n0\n"
     ]
    }
   ],
   "source": [
    "#11 write a code to count the number of capital letters in a file?\n",
    "url = '/home/henri/Documents/Post Lighthouse-Lab work/papers/pySpark/test.txt'\n",
    "with open(url, 'r') as f:\n",
    "    res = len([i for i in f.read() if i.isupper()])\n",
    "    print(res)\n"
   ]
  },
  {
   "cell_type": "code",
   "execution_count": 46,
   "metadata": {},
   "outputs": [
    {
     "output_type": "execute_result",
     "data": {
      "text/plain": [
       "[1, 8, 23, 34, 67]"
      ]
     },
     "metadata": {},
     "execution_count": 46
    }
   ],
   "source": [
    "#12 sort a numerical list in python\n",
    "ls = [1,67,23,34,8]\n",
    "ls.sort()\n",
    "ls"
   ]
  },
  {
   "cell_type": "code",
   "execution_count": 50,
   "metadata": {},
   "outputs": [
    {
     "output_type": "execute_result",
     "data": {
      "text/plain": [
       "['a', 'c', 'u', 'b', 'm', 'a', 's']"
      ]
     },
     "metadata": {},
     "execution_count": 50
    }
   ],
   "source": [
    "#13 resverse a list in python\n",
    "ls = ['s','a','m','b','u','c','a']\n",
    "ls[::-1]\n",
    "#ls.reverse() # option 2"
   ]
  },
  {
   "cell_type": "code",
   "execution_count": 51,
   "metadata": {},
   "outputs": [
    {
     "output_type": "execute_result",
     "data": {
      "text/plain": [
       "['s', 'a', 'm', 'b', 'u', 'c']"
      ]
     },
     "metadata": {},
     "execution_count": 51
    }
   ],
   "source": [
    "#14 remove the last item object from a list\n",
    "ls = ['s','a','m','b','u','c','a']\n",
    "ls = ls[:-1]\n",
    "# ls.pop() #option 2 \n",
    "ls"
   ]
  },
  {
   "cell_type": "code",
   "execution_count": 53,
   "metadata": {},
   "outputs": [],
   "source": [
    "#15. What are negative indexes and why are they used?\n",
    "# because whiles lists are in 1d numpy arrays can be 2d and slicing through them is important"
   ]
  },
  {
   "cell_type": "code",
   "execution_count": 66,
   "metadata": {},
   "outputs": [],
   "source": [
    "#16 split(),sub,subn\n",
    "# split() splits a string into a list separated by the passed argument (default space)\n",
    "'hello there'.split('e')\n",
    "# sub/subn\n",
    "import re\n",
    "#sub is a regex pattern sub(patter to look for, replacement str, str to be enacted n) \n",
    "#subn is similar to sub but returns a tupple (new_string,number) "
   ]
  },
  {
   "cell_type": "code",
   "execution_count": 73,
   "metadata": {},
   "outputs": [
    {
     "output_type": "execute_result",
     "data": {
      "text/plain": [
       "'Bak&d B&ans And Spam'"
      ]
     },
     "metadata": {},
     "execution_count": 73
    }
   ],
   "source": [
    "re.sub(r'e', '&', 'Baked Beans And Spam', flags=re.IGNORECASE)"
   ]
  },
  {
   "cell_type": "code",
   "execution_count": 77,
   "metadata": {},
   "outputs": [],
   "source": [
    "#17. How are range and xrange different from one another?\n",
    "# idk, never used xrange"
   ]
  },
  {
   "cell_type": "code",
   "execution_count": 78,
   "metadata": {},
   "outputs": [],
   "source": [
    "#18. pickling and unplicking python\n",
    "# Data serialization is the process of converting structured data to a format that allows sharing or storage of the data in a form that allows recovery of its original structure.\n",
    "\n",
    "#“Pickling” is the process whereby a Python object hierarchy is converted into a byte stream, and “unpickling” is the inverse operation\n",
    "import pickle"
   ]
  },
  {
   "cell_type": "code",
   "execution_count": null,
   "metadata": {},
   "outputs": [],
   "source": [
    "#19. map function in Python\n",
    "# the map() function takes a function as an argument and then applies that function to all the elements of an iterable"
   ]
  },
  {
   "cell_type": "code",
   "execution_count": 79,
   "metadata": {},
   "outputs": [
    {
     "output_type": "stream",
     "name": "stdout",
     "text": [
      "[2, 4, 6, 8]\n"
     ]
    }
   ],
   "source": [
    "# Return double of n \n",
    "def addition(n): \n",
    "    return n + n \n",
    "  \n",
    "# We double all numbers using map() \n",
    "numbers = (1, 2, 3, 4) \n",
    "result = map(addition, numbers) \n",
    "# The returned value from map() (map object) then can be passed to functions like list() (to create a list), set() (to create a set) .\n",
    "print(list(result)) "
   ]
  },
  {
   "cell_type": "code",
   "execution_count": 80,
   "metadata": {},
   "outputs": [
    {
     "output_type": "execute_result",
     "data": {
      "text/plain": [
       "<map at 0x7fa1526b5be0>"
      ]
     },
     "metadata": {},
     "execution_count": 80
    }
   ],
   "source": [
    "map(addition, numbers) "
   ]
  },
  {
   "cell_type": "code",
   "execution_count": 85,
   "metadata": {},
   "outputs": [
    {
     "output_type": "error",
     "ename": "AttributeError",
     "evalue": "'numpy.ndarray' object has no attribute 'range'",
     "traceback": [
      "\u001b[0;31m---------------------------------------------------------------------------\u001b[0m",
      "\u001b[0;31mAttributeError\u001b[0m                            Traceback (most recent call last)",
      "\u001b[0;32m<ipython-input-85-9197d68b3a05>\u001b[0m in \u001b[0;36m<module>\u001b[0;34m\u001b[0m\n\u001b[1;32m      3\u001b[0m arr = np.array([[1,2,3],\n\u001b[1;32m      4\u001b[0m                 [4,5,6]])\n\u001b[0;32m----> 5\u001b[0;31m \u001b[0marr\u001b[0m\u001b[0;34m.\u001b[0m\u001b[0mrange\u001b[0m\u001b[0;34m(\u001b[0m\u001b[0;34m)\u001b[0m\u001b[0;34m\u001b[0m\u001b[0;34m\u001b[0m\u001b[0m\n\u001b[0m",
      "\u001b[0;31mAttributeError\u001b[0m: 'numpy.ndarray' object has no attribute 'range'"
     ]
    }
   ],
   "source": [
    "# 20. Write a code to get the indices of N maximum values from a NumPy array.\n",
    "import numpy as np\n",
    "arr = np.array([[1,2,3],\n",
    "                [4,5,6]])\n",
    "arr.range()"
   ]
  },
  {
   "cell_type": "code",
   "execution_count": 92,
   "metadata": {},
   "outputs": [
    {
     "output_type": "execute_result",
     "data": {
      "text/plain": [
       "array([5, 0, 6, 3, 1, 9, 7, 8, 4, 2])"
      ]
     },
     "metadata": {},
     "execution_count": 92
    }
   ],
   "source": [
    "arr = np.array([1, 3,122, 2,67, 4, 5,7,12,5])\n",
    "ind = np.argpartition(arr, -4)\n",
    "ind"
   ]
  },
  {
   "cell_type": "code",
   "execution_count": 5,
   "metadata": {},
   "outputs": [],
   "source": [
    "def merge_the_tools(string, k):\n",
    "    # your code goes here\n",
    "    n = len(string)\n",
    "    #constraints\n",
    "    if n < k:\n",
    "        return\n",
    "    ls = [string[i:i+k]for i in range(0,n,k)]\n",
    "    #needs to be distinct char\n",
    "    for i in ls:\n",
    "        print(i)\n",
    "        res = ''.join(set(i))\n",
    "        print(res)"
   ]
  },
  {
   "cell_type": "code",
   "execution_count": 6,
   "metadata": {},
   "outputs": [
    {
     "output_type": "stream",
     "name": "stdout",
     "text": [
      "AAB\nBA\nCAA\nAC\nADX\nXDA\n"
     ]
    }
   ],
   "source": [
    "string = 'AABCAAADX'\n",
    "k = 3\n",
    "merge_the_tools(string, k)"
   ]
  },
  {
   "cell_type": "code",
   "execution_count": null,
   "metadata": {},
   "outputs": [],
   "source": []
  }
 ]
}